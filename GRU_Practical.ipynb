{
  "nbformat": 4,
  "nbformat_minor": 0,
  "metadata": {
    "colab": {
      "provenance": []
    },
    "kernelspec": {
      "name": "python3",
      "display_name": "Python 3"
    },
    "language_info": {
      "name": "python"
    }
  },
  "cells": [
    {
      "cell_type": "markdown",
      "source": [
        "# GRU Practicals"
      ],
      "metadata": {
        "id": "5Vv173-HiUFI"
      }
    },
    {
      "cell_type": "markdown",
      "source": [
        "## Load required libraries"
      ],
      "metadata": {
        "id": "ZqExOSPGiYUu"
      }
    },
    {
      "cell_type": "code",
      "execution_count": null,
      "metadata": {
        "id": "RZMz3Eq4iHwC"
      },
      "outputs": [],
      "source": [
        "from tensorflow.keras.datasets import imdb\n",
        "from tensorflow.keras.models import Sequential\n",
        "from tensorflow.keras.layers import Dense,GRU,Flatten,LSTM\n",
        "from tensorflow.keras.layers import Embedding\n",
        "from tensorflow.keras.utils import pad_sequences\n"
      ]
    },
    {
      "cell_type": "markdown",
      "source": [
        "## Download the dataset and get only 500 words of each review"
      ],
      "metadata": {
        "id": "dC_S8eM8ieOt"
      }
    },
    {
      "cell_type": "code",
      "source": [
        "#Keeping only the top n words\n",
        "word_count = 5000\n",
        "(x_train, y_train), (x_test,y_test) = imdb.load_data(num_words = word_count)\n",
        "\n",
        "#Taking the top 500 words\n",
        "word_max = 500\n",
        "x_train = pad_sequences(x_train, maxlen=word_max)\n",
        "x_test =  pad_sequences(x_test, maxlen=word_max)\n"
      ],
      "metadata": {
        "colab": {
          "base_uri": "https://localhost:8080/"
        },
        "id": "IiqP5612iQDi",
        "outputId": "c5d920ba-c650-420b-ad10-fa869f99e092"
      },
      "execution_count": null,
      "outputs": [
        {
          "output_type": "stream",
          "name": "stdout",
          "text": [
            "Downloading data from https://storage.googleapis.com/tensorflow/tf-keras-datasets/imdb.npz\n",
            "17464789/17464789 [==============================] - 0s 0us/step\n"
          ]
        }
      ]
    },
    {
      "cell_type": "markdown",
      "source": [
        "## Building the model"
      ],
      "metadata": {
        "id": "dv0mrl2bimlu"
      }
    },
    {
      "cell_type": "code",
      "source": [
        "model = Sequential()\n",
        "model.add(Embedding(word_count,100,input_length=word_max))\n",
        "model.add(GRU(100))\n",
        "model.add(Dense(1,activation='sigmoid'))\n",
        "model.compile(loss='binary_crossentropy', optimizer='adam', metrics=['accuracy'])\n",
        "\n",
        "\n",
        "print(model.summary())\n"
      ],
      "metadata": {
        "colab": {
          "base_uri": "https://localhost:8080/"
        },
        "id": "q5FrtKr1ikOS",
        "outputId": "fe8aebb7-5aa7-4304-a53d-b3bda1d58f1e"
      },
      "execution_count": null,
      "outputs": [
        {
          "output_type": "stream",
          "name": "stdout",
          "text": [
            "Model: \"sequential\"\n",
            "_________________________________________________________________\n",
            " Layer (type)                Output Shape              Param #   \n",
            "=================================================================\n",
            " embedding (Embedding)       (None, 500, 100)          500000    \n",
            "                                                                 \n",
            " gru (GRU)                   (None, 100)               60600     \n",
            "                                                                 \n",
            " dense (Dense)               (None, 1)                 101       \n",
            "                                                                 \n",
            "=================================================================\n",
            "Total params: 560701 (2.14 MB)\n",
            "Trainable params: 560701 (2.14 MB)\n",
            "Non-trainable params: 0 (0.00 Byte)\n",
            "_________________________________________________________________\n",
            "None\n"
          ]
        }
      ]
    },
    {
      "cell_type": "markdown",
      "source": [
        "## Model fitting"
      ],
      "metadata": {
        "id": "FNzvTgYCirHn"
      }
    },
    {
      "cell_type": "code",
      "source": [
        "model.fit(x_train,y_train, epochs=3, batch_size=64)"
      ],
      "metadata": {
        "colab": {
          "base_uri": "https://localhost:8080/"
        },
        "id": "g-kmzc7oiuuv",
        "outputId": "f484daf0-cb7c-4ac9-b17d-34c3b5fd9927"
      },
      "execution_count": null,
      "outputs": [
        {
          "output_type": "stream",
          "name": "stdout",
          "text": [
            "Epoch 1/3\n",
            "391/391 [==============================] - 335s 850ms/step - loss: 0.4898 - accuracy: 0.7494\n",
            "Epoch 2/3\n",
            "391/391 [==============================] - 332s 849ms/step - loss: 0.2844 - accuracy: 0.8857\n",
            "Epoch 3/3\n",
            "391/391 [==============================] - 334s 853ms/step - loss: 0.2030 - accuracy: 0.9220\n"
          ]
        },
        {
          "output_type": "execute_result",
          "data": {
            "text/plain": [
              "<keras.src.callbacks.History at 0x7a4967ea2fe0>"
            ]
          },
          "metadata": {},
          "execution_count": 4
        }
      ]
    },
    {
      "cell_type": "markdown",
      "source": [
        "## Predicting the next word at each timestep"
      ],
      "metadata": {
        "id": "1AB8Y6Hvi3H6"
      }
    },
    {
      "cell_type": "code",
      "source": [
        "y_predict = model.predict(x_test)\n",
        "print(y_predict)"
      ],
      "metadata": {
        "colab": {
          "base_uri": "https://localhost:8080/"
        },
        "id": "b67HjHMVi4df",
        "outputId": "547fca2f-ad45-48f2-987e-99824f2e58ab"
      },
      "execution_count": null,
      "outputs": [
        {
          "output_type": "stream",
          "name": "stdout",
          "text": [
            "782/782 [==============================] - 77s 98ms/step\n",
            "[[0.05808971]\n",
            " [0.9950087 ]\n",
            " [0.39402768]\n",
            " ...\n",
            " [0.04243282]\n",
            " [0.05565993]\n",
            " [0.81443757]]\n"
          ]
        }
      ]
    },
    {
      "cell_type": "markdown",
      "source": [
        "## Finding the accuracy of the model"
      ],
      "metadata": {
        "id": "NLnUs9q_i_ww"
      }
    },
    {
      "cell_type": "code",
      "source": [
        "result = model.evaluate(x_test,y_test, verbose=0)\n",
        "print(\"Accuracy = %.2f%%\" % (result[1]*100))"
      ],
      "metadata": {
        "colab": {
          "base_uri": "https://localhost:8080/"
        },
        "id": "OMQgDzyTjDNg",
        "outputId": "f7993b5a-f992-40ae-8b22-68af5aa33fc4"
      },
      "execution_count": null,
      "outputs": [
        {
          "output_type": "stream",
          "name": "stdout",
          "text": [
            "Accuracy = 89.21%\n"
          ]
        }
      ]
    },
    {
      "cell_type": "code",
      "source": [],
      "metadata": {
        "id": "jITEhcR7jHHX"
      },
      "execution_count": null,
      "outputs": []
    }
  ]
}